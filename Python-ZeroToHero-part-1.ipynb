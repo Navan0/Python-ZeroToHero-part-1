{
  "nbformat": 4,
  "nbformat_minor": 0,
  "metadata": {
    "colab": {
      "name": "Python_basics.ipynb",
      "version": "0.3.2",
      "provenance": [],
      "private_outputs": true,
      "collapsed_sections": [],
      "include_colab_link": true
    },
    "kernelspec": {
      "name": "python3",
      "display_name": "Python 3"
    }
  },
  "cells": [
    {
      "cell_type": "markdown",
      "metadata": {
        "id": "view-in-github",
        "colab_type": "text"
      },
      "source": [
        "<a href=\"https://colab.research.google.com/github/Navan0/Python-ZeroToHero-part-1/blob/master/Python-ZeroToHero-part-1.ipynb\" target=\"_parent\"><img src=\"https://colab.research.google.com/assets/colab-badge.svg\" alt=\"Open In Colab\"/></a>"
      ]
    },
    {
      "metadata": {
        "id": "FN2XmI_Srp71",
        "colab_type": "text"
      },
      "cell_type": "markdown",
      "source": [
        "![alt text](https://cdn-images-1.medium.com/max/1600/1*R2j2WtJ18VgK-INVB5EPnQ.png)"
      ]
    },
    {
      "metadata": {
        "id": "VndzYJuQ7MxZ",
        "colab_type": "text"
      },
      "cell_type": "markdown",
      "source": [
        "#**Zen of python**\n",
        "\n",
        "![alt text](https://art.ngfiles.com/images/603000/603348_kaixtr_yin-yang-python.png?f1523288028)\n"
      ]
    },
    {
      "metadata": {
        "id": "P5rzDOGC7Imi",
        "colab_type": "code",
        "colab": {}
      },
      "cell_type": "code",
      "source": [
        "import this"
      ],
      "execution_count": 0,
      "outputs": []
    },
    {
      "metadata": {
        "id": "Lop8wDSAb4lT",
        "colab_type": "text"
      },
      "cell_type": "markdown",
      "source": [
        "#**PEP8**\n",
        "**https://pep8.org/**"
      ]
    },
    {
      "metadata": {
        "id": "a5gzBy628hFZ",
        "colab_type": "text"
      },
      "cell_type": "markdown",
      "source": [
        "**Variables**"
      ]
    },
    {
      "metadata": {
        "id": "KOVrGoPv8J6l",
        "colab_type": "code",
        "colab": {}
      },
      "cell_type": "code",
      "source": [
        "# booleans\n",
        "true_boolean = True\n",
        "false_boolean = False\n",
        "\n",
        "# string\n",
        "my_name = \"Navaneeth anand\"\n",
        "\n",
        "# float\n",
        "book_price = 15.80"
      ],
      "execution_count": 0,
      "outputs": []
    },
    {
      "metadata": {
        "id": "oUdmVSaQ9Hf5",
        "colab_type": "text"
      },
      "cell_type": "markdown",
      "source": [
        "#**Control Flow: conditional statements**"
      ]
    },
    {
      "metadata": {
        "id": "iV8FRJJnf44R",
        "colab_type": "text"
      },
      "cell_type": "markdown",
      "source": [
        "**If**"
      ]
    },
    {
      "metadata": {
        "id": "8iqGE0Nt9Kjd",
        "colab_type": "code",
        "colab": {}
      },
      "cell_type": "code",
      "source": [
        "if True:\n",
        "  print(\"Hello Python If\")\n",
        "\n",
        "if 2 > 1:\n",
        "  print(\"2 is greater than 1\")"
      ],
      "execution_count": 0,
      "outputs": []
    },
    {
      "metadata": {
        "id": "2RxxqJ1p9Ryb",
        "colab_type": "code",
        "colab": {}
      },
      "cell_type": "code",
      "source": [
        "if 1 > 2:\n",
        "  print(\"1 is greater than 2\")\n",
        "elif 2 > 1:\n",
        "  print(\"1 is not greater than 2\")\n",
        "else:\n",
        "  print(\"1 is equal to 2\")"
      ],
      "execution_count": 0,
      "outputs": []
    },
    {
      "metadata": {
        "id": "BJzA1TLUfwJ_",
        "colab_type": "text"
      },
      "cell_type": "markdown",
      "source": [
        "**While**"
      ]
    },
    {
      "metadata": {
        "id": "l6C1ljN19c9y",
        "colab_type": "code",
        "colab": {}
      },
      "cell_type": "code",
      "source": [
        "num = 1\n",
        "\n",
        "while num <= 10:\n",
        "    print(num)\n",
        "    num += 1\n",
        "    "
      ],
      "execution_count": 0,
      "outputs": []
    },
    {
      "metadata": {
        "id": "F8HbwtCthKNP",
        "colab_type": "text"
      },
      "cell_type": "markdown",
      "source": [
        "#**Looping**"
      ]
    },
    {
      "metadata": {
        "id": "QYqP3VDBhqT3",
        "colab_type": "text"
      },
      "cell_type": "markdown",
      "source": [
        "**While**"
      ]
    },
    {
      "metadata": {
        "id": "UaPGHBg19dqo",
        "colab_type": "code",
        "colab": {}
      },
      "cell_type": "code",
      "source": [
        "\n",
        "loop_condition = True\n",
        "\n",
        "while loop_condition:\n",
        "    print(\"Loop Condition keeps: %s\" %(loop_condition))\n",
        "    loop_condition = False"
      ],
      "execution_count": 0,
      "outputs": []
    },
    {
      "metadata": {
        "id": "FTotaJYIhvh4",
        "colab_type": "text"
      },
      "cell_type": "markdown",
      "source": [
        "**For**"
      ]
    },
    {
      "metadata": {
        "id": "33CT3EX-9niG",
        "colab_type": "code",
        "colab": {}
      },
      "cell_type": "code",
      "source": [
        "for i in range(1, 11):\n",
        "  print(i)"
      ],
      "execution_count": 0,
      "outputs": []
    },
    {
      "metadata": {
        "id": "M43NINlJ9sS0",
        "colab_type": "code",
        "colab": {}
      },
      "cell_type": "code",
      "source": [
        ""
      ],
      "execution_count": 0,
      "outputs": []
    },
    {
      "metadata": {
        "id": "xIrLw8Foh9xx",
        "colab_type": "text"
      },
      "cell_type": "markdown",
      "source": [
        "#**List: Collection | Array | Data Structure**"
      ]
    },
    {
      "metadata": {
        "id": "Z3K2kdyA-Jg5",
        "colab_type": "code",
        "colab": {}
      },
      "cell_type": "code",
      "source": [
        "my_integers = [1, 2, 3, 4, 5]"
      ],
      "execution_count": 0,
      "outputs": []
    },
    {
      "metadata": {
        "id": "N889d03NiP_A",
        "colab_type": "text"
      },
      "cell_type": "markdown",
      "source": [
        "![alt text](https://cdn-images-1.medium.com/max/800/1*ReMk6NgghLII20vPD6uNEA.jpeg)"
      ]
    },
    {
      "metadata": {
        "id": "nkvqAWRkitv3",
        "colab_type": "code",
        "colab": {}
      },
      "cell_type": "code",
      "source": [
        "\n",
        "my_integers = [5, 7, 1, 3, 4]\n",
        "print(my_integers[0]) # 5\n",
        "print(my_integers[1]) # 7\n",
        "print(my_integers[4]) # 4"
      ],
      "execution_count": 0,
      "outputs": []
    },
    {
      "metadata": {
        "id": "bpEcuOo9kw0R",
        "colab_type": "code",
        "colab": {}
      },
      "cell_type": "code",
      "source": [
        "import this"
      ],
      "execution_count": 0,
      "outputs": []
    },
    {
      "metadata": {
        "id": "xbRYCGz6kxt6",
        "colab_type": "code",
        "colab": {}
      },
      "cell_type": "code",
      "source": [
        ""
      ],
      "execution_count": 0,
      "outputs": []
    }
  ]
}